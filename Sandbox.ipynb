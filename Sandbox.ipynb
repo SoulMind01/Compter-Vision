{
 "cells": [
  {
   "cell_type": "markdown",
   "metadata": {},
   "source": [
    "# Compter-Vision\n",
    "My technology stack in computer vision."
   ]
  },
  {
   "cell_type": "markdown",
   "metadata": {},
   "source": [
    "![Alt text](image.png)\n",
    "## 1. **Local structure matrix**\n",
    "\n",
    "$A=\\sum_{u,v} w(u,v) \\begin{pmatrix} I_x^2 & I_xI_y \\\\ I_xI_y& I_y^2\\end{pmatrix} =\\begin {pmatrix} <I_x>^2 & <I_xI_y> \\\\ <I_xI_y> & <I_y^2> \\end{pmatrix}$"
   ]
  },
  {
   "cell_type": "markdown",
   "metadata": {},
   "source": [
    "## 2. **A python function convolve2d**"
   ]
  },
  {
   "cell_type": "code",
   "execution_count": 2,
   "metadata": {},
   "outputs": [],
   "source": [
    "import numpy as np\n",
    "import scipy as sp"
   ]
  },
  {
   "cell_type": "code",
   "execution_count": 5,
   "metadata": {},
   "outputs": [
    {
     "name": "stdout",
     "output_type": "stream",
     "text": [
      "[[ -1  -1   0   1   1]\n",
      " [ -5  -5   0   5   5]\n",
      " [-13 -13   0  13  13]\n",
      " [-15 -15   0  15  15]\n",
      " [ -6  -6   0   6   6]]\n",
      "[[ -1  -3  -4  -3  -1]\n",
      " [ -3  -9 -12  -9  -3]\n",
      " [ -5 -15 -20 -15  -5]\n",
      " [  3   9  12   9   3]\n",
      " [  6  18  24  18   6]]\n"
     ]
    }
   ],
   "source": [
    "from scipy.signal import convolve2d\n",
    "#A = np.array([[1,1,1],[3,3,3],[6,6,6]])\n",
    "#B = np.array([[-1,0,1],[-2,0,2],[-1,0,1]])\n",
    "#C = convolve2d(A,B,mode='same',boundary='fill',fillvalue=0)\n",
    "#print(C)\n",
    "# to get the output as large as A, set mode = 'same'\n",
    "# to fill the extra elements, set boundary = 'fill'\n",
    "# to set the value of the extra elements, set fillvalue = <whatever>\n",
    "\n",
    "#I = np.array([[2,2,5,5,1],[2,5,5,1,1],[5,5,1,1,1],[5,1,1,1,0],[1,1,1,0,0]])\n",
    "#Gx = np.array([[-1,0,1]])\n",
    "#Gy = np.array([[-1,0,1]]).reshape(3,1)\n",
    "#Ix = convolve2d(I,Gx,mode='same',boundary='fill',fillvalue=0)\n",
    "#Iy = convolve2d(I,Gy,mode='same',boundary='fill',fillvalue=0)\n",
    "#Ixx = Ix**2\n",
    "#Iyy = Iy**2\n",
    "#Ixy = Ix * Iy\n",
    "#print(Ixy)\n",
    "\n",
    "A = np.array([[1,1,1],[3,3,3],[6,6,6]])\n",
    "\n",
    "Sx = np.array([[-1,0,1],[-2,0,2],[-1,0,1]])\n",
    "Sy = np.array([[-1,-2,-1],[0,0,0],[1,2,1]])\n",
    "\n",
    "Ix = convolve2d(A,Sx,mode='full',boundary='fill',fillvalue=0)\n",
    "Iy = convolve2d(A,Sy,mode='full',boundary='fill',fillvalue=0)\n",
    "print(Ix)\n",
    "print(Iy)"
   ]
  },
  {
   "cell_type": "markdown",
   "metadata": {},
   "source": [
    "## 3. **A python function maximum_filter**"
   ]
  },
  {
   "cell_type": "code",
   "execution_count": 7,
   "metadata": {},
   "outputs": [],
   "source": [
    "from scipy.ndimage import maximum_filter"
   ]
  },
  {
   "cell_type": "code",
   "execution_count": 8,
   "metadata": {},
   "outputs": [
    {
     "name": "stdout",
     "output_type": "stream",
     "text": [
      "[[5 6 8 8]\n",
      " [7 7 8 8]\n",
      " [7 7 8 8]\n",
      " [7 7 3 3]]\n"
     ]
    }
   ],
   "source": [
    "R = np.array([\n",
    "  [1, 3, 2, 4],\n",
    "  [2, 5, 6, 8],\n",
    "  [7, 1, 1, 3],\n",
    "  [4, 3, 2, 2]\n",
    "])\n",
    "# foorprint is used to determine whether the element should be considered as maximum\n",
    "footprint = np.ones((3, 3))\n",
    "B = maximum_filter(input = R, footprint = footprint, mode = 'reflect')\n",
    "print(B)"
   ]
  },
  {
   "cell_type": "markdown",
   "metadata": {},
   "source": [
    "## 4. **A python function np.argwhere**"
   ]
  },
  {
   "cell_type": "code",
   "execution_count": 15,
   "metadata": {},
   "outputs": [
    {
     "name": "stdout",
     "output_type": "stream",
     "text": [
      "[[1 0]\n",
      " [1 1]\n",
      " [1 2]]\n",
      "[[0 0]\n",
      " [0 1]\n",
      " [0 2]]\n"
     ]
    }
   ],
   "source": [
    "# print the index of non-zero elements\n",
    "A = np.array([[0,0,0],[1,2,1]])\n",
    "B = np.argwhere(A)\n",
    "print(B)\n",
    "\n",
    "print(np.argwhere(A==0))"
   ]
  },
  {
   "cell_type": "markdown",
   "metadata": {},
   "source": [
    "## 5. **A python function np.argsort**"
   ]
  },
  {
   "cell_type": "code",
   "execution_count": 18,
   "metadata": {},
   "outputs": [
    {
     "name": "stdout",
     "output_type": "stream",
     "text": [
      "[[0 1 2]\n",
      " [2 0 1]]\n"
     ]
    }
   ],
   "source": [
    "# return the indices that will sort the array.\n",
    "A = np.array([[1,2,3],[4,5,-6]])\n",
    "B = np.argsort(A)\n",
    "print(B)"
   ]
  },
  {
   "cell_type": "markdown",
   "metadata": {},
   "source": [
    "## 6. A python function np.where"
   ]
  },
  {
   "cell_type": "code",
   "execution_count": 4,
   "metadata": {},
   "outputs": [
    {
     "name": "stdout",
     "output_type": "stream",
     "text": [
      "(array([0, 0, 0, 1, 1, 2, 2, 2], dtype=int64), array([0, 1, 2, 0, 1, 0, 1, 2], dtype=int64))\n"
     ]
    }
   ],
   "source": [
    "A = np.array([[1,2,3],[4,5,-6],[7,8,9]])\n",
    "indices = np.where(A>0)\n",
    "print(indices)"
   ]
  }
 ],
 "metadata": {
  "kernelspec": {
   "display_name": "base",
   "language": "python",
   "name": "python3"
  },
  "language_info": {
   "codemirror_mode": {
    "name": "ipython",
    "version": 3
   },
   "file_extension": ".py",
   "mimetype": "text/x-python",
   "name": "python",
   "nbconvert_exporter": "python",
   "pygments_lexer": "ipython3",
   "version": "3.11.5"
  }
 },
 "nbformat": 4,
 "nbformat_minor": 2
}
